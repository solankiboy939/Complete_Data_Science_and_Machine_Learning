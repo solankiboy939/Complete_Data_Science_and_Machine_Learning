{
 "cells": [
  {
   "cell_type": "code",
   "execution_count": 15,
   "id": "6ea9387d-47ad-4a80-8599-df27f883fa93",
   "metadata": {
    "tags": []
   },
   "outputs": [],
   "source": [
    "record = {1001: {'name':\"5 Star\",'price':10, 'Qn': 200},\n",
    "          1002:{'name':\"Bar-One\",'price':2, 'Qn': 2000},\n",
    "          1003:{'name':\"Candy\",'price':20, 'Qn': 100},\n",
    "          1004:{'name': \"Chocolate Cake\",'price':550, 'Qn': 8},\n",
    "          1005: {'name': \"Blueberry CAKE\",'price':650, 'Qn': 5}}"
   ]
  },
  {
   "cell_type": "code",
   "execution_count": 17,
   "id": "21b14896-2778-4761-a06c-a9baa39bfff1",
   "metadata": {
    "tags": []
   },
   "outputs": [
    {
     "data": {
      "text/plain": [
       "{1001: {'name': '5 Star', 'price': 10, 'Qn': 200},\n",
       " 1002: {'name': 'Bar-One', 'price': 2, 'Qn': 2000},\n",
       " 1003: {'name': 'Candy', 'price': 20, 'Qn': 100},\n",
       " 1004: {'name': 'Chocolate Cake', 'price': 550, 'Qn': 8},\n",
       " 1005: {'name': 'Blueberry CAKE', 'price': 650, 'Qn': 5}}"
      ]
     },
     "execution_count": 17,
     "metadata": {},
     "output_type": "execute_result"
    }
   ],
   "source": [
    "record"
   ]
  },
  {
   "cell_type": "code",
   "execution_count": 19,
   "id": "11547daa-a6ad-4860-ae64-da4f1ceb98fd",
   "metadata": {
    "tags": []
   },
   "outputs": [
    {
     "data": {
      "text/plain": [
       "{'name': '5 Star', 'price': 10, 'Qn': 200}"
      ]
     },
     "execution_count": 19,
     "metadata": {},
     "output_type": "execute_result"
    }
   ],
   "source": [
    "record[1001]"
   ]
  },
  {
   "cell_type": "code",
   "execution_count": 25,
   "id": "d386e16b-16ec-4631-b54a-9cd3ea38fdc4",
   "metadata": {
    "tags": []
   },
   "outputs": [
    {
     "name": "stdout",
     "output_type": "stream",
     "text": [
      "5 Star\n",
      "10\n",
      "200\n"
     ]
    }
   ],
   "source": [
    "print(record[1001]['name'])\n",
    "print(record[1001]['price'])\n",
    "print(record[1001]['Qn'])"
   ]
  },
  {
   "cell_type": "code",
   "execution_count": null,
   "id": "7d2e77e1-942e-4ecf-9dea-d25b4fea755e",
   "metadata": {},
   "outputs": [],
   "source": []
  }
 ],
 "metadata": {
  "kernelspec": {
   "display_name": "Python 3 (ipykernel)",
   "language": "python",
   "name": "python3"
  },
  "language_info": {
   "codemirror_mode": {
    "name": "ipython",
    "version": 3
   },
   "file_extension": ".py",
   "mimetype": "text/x-python",
   "name": "python",
   "nbconvert_exporter": "python",
   "pygments_lexer": "ipython3",
   "version": "3.11.7"
  }
 },
 "nbformat": 4,
 "nbformat_minor": 5
}
