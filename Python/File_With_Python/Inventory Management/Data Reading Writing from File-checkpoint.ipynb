{
 "cells": [
  {
   "cell_type": "markdown",
   "id": "9ba8e362-f1a0-4ccc-907d-aeef31f06362",
   "metadata": {},
   "source": [
    "# Read the Data From The File"
   ]
  },
  {
   "cell_type": "code",
   "execution_count": null,
   "id": "b97434bf-889f-410b-8cab-f422fbe45e67",
   "metadata": {
    "tags": []
   },
   "outputs": [],
   "source": [
    "fd = open('Data1.txt', 'r')\n",
    "txt = fd.read()\n",
    "print(txt)\n",
    "fd.close()"
   ]
  },
  {
   "cell_type": "markdown",
   "id": "129e8da3-590f-453d-adb8-f2172dd86edc",
   "metadata": {},
   "source": [
    "## Read corpus from file\n"
   ]
  },
  {
   "cell_type": "code",
   "execution_count": null,
   "id": "e66fe1a4-9284-4d61-9642-5704e896da8c",
   "metadata": {
    "tags": []
   },
   "outputs": [],
   "source": [
    "fd = open('Data2.txt', 'r')\n",
    "txt = fd.read()\n",
    "print(txt)\n",
    "# txt \n",
    "fd.close()"
   ]
  },
  {
   "cell_type": "code",
   "execution_count": null,
   "id": "02254566-836b-412c-806c-f321484e3029",
   "metadata": {
    "tags": []
   },
   "outputs": [],
   "source": [
    "txt"
   ]
  },
  {
   "cell_type": "markdown",
   "id": "1ba0a370-ac3d-43fd-b63e-b702d35a3e21",
   "metadata": {},
   "source": [
    "## Text Preprocessing"
   ]
  },
  {
   "cell_type": "code",
   "execution_count": null,
   "id": "043259b1-9bdd-4c82-8933-bebd4381d4bc",
   "metadata": {
    "tags": []
   },
   "outputs": [],
   "source": [
    "fd = open('Data2.txt','r')\n",
    "txt = fd.read()\n",
    "print(txt)\n",
    "fd.close()"
   ]
  },
  {
   "cell_type": "markdown",
   "id": "7c6c2bfc-1710-4bfa-be76-97a7e74fbe61",
   "metadata": {},
   "source": [
    "## Find Number of Paragraph"
   ]
  },
  {
   "cell_type": "code",
   "execution_count": null,
   "id": "09eaa82a-3d9c-46d5-8189-608cd8899628",
   "metadata": {
    "tags": []
   },
   "outputs": [],
   "source": [
    "per = txt.split(\"\\n\\n\")\n",
    "print(len(per))"
   ]
  },
  {
   "cell_type": "code",
   "execution_count": null,
   "id": "ecefbb69-8545-4d57-9c3a-ce5c7b970946",
   "metadata": {
    "tags": []
   },
   "outputs": [],
   "source": [
    "line = txt.split(\".\")\n",
    "print(len(line))"
   ]
  },
  {
   "cell_type": "markdown",
   "id": "cc6c356c-f920-4fc8-953e-fde1b868dc56",
   "metadata": {},
   "source": [
    "## Words"
   ]
  },
  {
   "cell_type": "code",
   "execution_count": null,
   "id": "4c9a91ce-9dad-4a14-b0f7-87460aa539b8",
   "metadata": {
    "tags": []
   },
   "outputs": [],
   "source": [
    "word = txt.split(\" \")\n",
    "print(len(word))"
   ]
  },
  {
   "cell_type": "code",
   "execution_count": null,
   "id": "bee75152-a482-4dd5-86f1-bfa60d6e1ccc",
   "metadata": {
    "tags": []
   },
   "outputs": [],
   "source": [
    "txt.replace('[7]', \" \")"
   ]
  },
  {
   "cell_type": "code",
   "execution_count": null,
   "id": "eabcb7fd-16c0-4049-b2b7-96ae830de0a9",
   "metadata": {
    "tags": []
   },
   "outputs": [],
   "source": [
    "for i in range(7,19):\n",
    "    pattern = \"[\" + str(i) + \"]\"\n",
    "    txt = txt.replace(pattern, \"\")\n",
    "print(txt)"
   ]
  },
  {
   "cell_type": "markdown",
   "id": "8ed8170f-7cc7-4371-b1de-308cdfdcd2c0",
   "metadata": {},
   "source": [
    "## Remove Special Characters"
   ]
  },
  {
   "cell_type": "code",
   "execution_count": 41,
   "id": "0a48b2b8-1745-4c76-a5f6-d36757381a7d",
   "metadata": {
    "tags": []
   },
   "outputs": [],
   "source": [
    "for i in \"!@#$%^&*\":\n",
    "    txt.replace(i,\"\")"
   ]
  },
  {
   "cell_type": "code",
   "execution_count": null,
   "id": "3e72031c-057e-4061-89f6-c282212fe5c3",
   "metadata": {
    "tags": []
   },
   "outputs": [],
   "source": [
    "print(txt)"
   ]
  },
  {
   "cell_type": "markdown",
   "id": "80f2d015-7a18-4722-a705-c6cab82f6743",
   "metadata": {},
   "source": [
    "# Write the Data in the file \n",
    "###### use 'r' for Read\n",
    "###### use 'w' for Write\n",
    "###### use 'a' for Write Further"
   ]
  },
  {
   "cell_type": "code",
   "execution_count": 95,
   "id": "5415752f-5b57-46fd-bc49-a01a07420107",
   "metadata": {
    "tags": []
   },
   "outputs": [],
   "source": [
    "fd = open(\"Data.txt\",'w')\n",
    "fd.write(\"My name is Manohar Solanki.\")\n",
    "fd.close()"
   ]
  },
  {
   "cell_type": "code",
   "execution_count": 99,
   "id": "645c534f-9c2d-4720-8472-22ea497ad9bc",
   "metadata": {
    "tags": []
   },
   "outputs": [],
   "source": [
    "fd = open(\"Data3.txt\",'a')\n",
    "fd.write(\"Persuing Btech from Harward.\")\n",
    "fd.close()"
   ]
  },
  {
   "cell_type": "code",
   "execution_count": 124,
   "id": "e3fc7191-f798-4204-b6a0-38c5ffd7a4c0",
   "metadata": {
    "tags": []
   },
   "outputs": [
    {
     "name": "stdin",
     "output_type": "stream",
     "text": [
      "Enter the text:  My name is Manohar Solanki\n"
     ]
    }
   ],
   "source": [
    "fd = open(\"Data3.txt\",'a')\n",
    "txt = input(\"Enter the text: \")\n",
    "txt = txt+\".\\n\"\n",
    "fd.write(txt)\n",
    "fd.close()"
   ]
  },
  {
   "cell_type": "code",
   "execution_count": null,
   "id": "53f2c720-0dce-4524-a188-6d57c96437f2",
   "metadata": {},
   "outputs": [],
   "source": []
  }
 ],
 "metadata": {
  "kernelspec": {
   "display_name": "Python 3 (ipykernel)",
   "language": "python",
   "name": "python3"
  },
  "language_info": {
   "codemirror_mode": {
    "name": "ipython",
    "version": 3
   },
   "file_extension": ".py",
   "mimetype": "text/x-python",
   "name": "python",
   "nbconvert_exporter": "python",
   "pygments_lexer": "ipython3",
   "version": "3.11.7"
  }
 },
 "nbformat": 4,
 "nbformat_minor": 5
}
