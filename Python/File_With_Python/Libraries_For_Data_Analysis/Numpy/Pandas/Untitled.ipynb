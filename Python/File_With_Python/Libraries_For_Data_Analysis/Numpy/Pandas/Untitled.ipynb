{
 "cells": [
  {
   "cell_type": "code",
   "execution_count": 4,
   "id": "832c7645-b7e7-40c2-9c0f-c4b9ad8c32c1",
   "metadata": {
    "tags": []
   },
   "outputs": [
    {
     "data": {
      "text/plain": [
       "pandas.core.series.Series"
      ]
     },
     "execution_count": 4,
     "metadata": {},
     "output_type": "execute_result"
    }
   ],
   "source": [
    "import pandas as pd\n",
    "sr1 = pd.Series([1,-2,3])\n",
    "type(sr1)"
   ]
  },
  {
   "cell_type": "code",
   "execution_count": 6,
   "id": "d5ce2a34-dff9-42ca-87c2-6b0622fe9816",
   "metadata": {
    "tags": []
   },
   "outputs": [
    {
     "data": {
      "text/plain": [
       "0    True\n",
       "1    True\n",
       "2    True\n",
       "dtype: bool"
      ]
     },
     "execution_count": 6,
     "metadata": {},
     "output_type": "execute_result"
    }
   ],
   "source": [
    "sr1.between(-21,20)"
   ]
  },
  {
   "cell_type": "code",
   "execution_count": 37,
   "id": "90e73942-4315-4046-8d4d-fb1e68d59737",
   "metadata": {
    "tags": []
   },
   "outputs": [],
   "source": [
    "ser = pd.Series([\"Manohar Solanki\", \"Anil Solanki\", \"Bablu Solanki\", \"Sawai Solanki\"])"
   ]
  },
  {
   "cell_type": "code",
   "execution_count": 39,
   "id": "548c1a6d-4dbd-4c1d-8e4b-46e727c6b3a7",
   "metadata": {
    "tags": []
   },
   "outputs": [
    {
     "name": "stdout",
     "output_type": "stream",
     "text": [
      "Name is : Manohar Solanki and Length for Name is : 15\n",
      "Name is : Anil Solanki and Length for Name is : 12\n",
      "Name is : Bablu Solanki and Length for Name is : 13\n",
      "Name is : Sawai Solanki and Length for Name is : 13\n"
     ]
    }
   ],
   "source": [
    "for i in ser:\n",
    "    print(\"Name is :\",i,\"and Length for Name is :\",len(i))"
   ]
  },
  {
   "cell_type": "code",
   "execution_count": 41,
   "id": "348e4c50-2b44-4485-9ae1-c1f064860d97",
   "metadata": {
    "tags": []
   },
   "outputs": [],
   "source": [
    "ser = ser.str.strip()"
   ]
  },
  {
   "cell_type": "code",
   "execution_count": 43,
   "id": "0303b678-53dc-475d-9301-15556887c3b5",
   "metadata": {
    "tags": []
   },
   "outputs": [
    {
     "name": "stdout",
     "output_type": "stream",
     "text": [
      "15\n",
      "12\n",
      "13\n",
      "13\n"
     ]
    }
   ],
   "source": [
    "for i in ser:\n",
    "    print(len(i))"
   ]
  },
  {
   "cell_type": "code",
   "execution_count": 45,
   "id": "d4fd6b4b-ed85-47ca-b7ec-a7494555102c",
   "metadata": {
    "tags": []
   },
   "outputs": [
    {
     "name": "stdout",
     "output_type": "stream",
     "text": [
      "['10', '3', '2023']\n",
      "['12', '3', '2024']\n",
      "['13', '3', '2025']\n"
     ]
    }
   ],
   "source": [
    "print(pd.Series(['10/3/2023','10/3/2023','10/3/2023']).str.split('/')[0])\n",
    "print(pd.Series(['12/3/2024','12/3/2024','12/3/2024']).str.split('/')[1])\n",
    "print(pd.Series(['13/3/2025','13/3/2025','13/3/2025']).str.split('/')[2])"
   ]
  },
  {
   "cell_type": "code",
   "execution_count": 47,
   "id": "caf43267-747f-434e-9683-61419b653b51",
   "metadata": {
    "tags": []
   },
   "outputs": [
    {
     "data": {
      "text/plain": [
       "['Manohar', 'Solanki']"
      ]
     },
     "execution_count": 47,
     "metadata": {},
     "output_type": "execute_result"
    }
   ],
   "source": [
    "ser.str.split()[0]"
   ]
  },
  {
   "cell_type": "code",
   "execution_count": 49,
   "id": "ff569b4e-11c2-4b3f-85ab-6cb9b497c155",
   "metadata": {
    "tags": []
   },
   "outputs": [
    {
     "data": {
      "text/plain": [
       "0    3\n",
       "1    1\n",
       "2    2\n",
       "3    3\n",
       "dtype: int64"
      ]
     },
     "execution_count": 49,
     "metadata": {},
     "output_type": "execute_result"
    }
   ],
   "source": [
    "ser.str.count('a')"
   ]
  },
  {
   "cell_type": "code",
   "execution_count": 51,
   "id": "7f889fc4-e7b2-44b7-8e8d-a52ef157b838",
   "metadata": {
    "tags": []
   },
   "outputs": [
    {
     "data": {
      "text/plain": [
       "0    True\n",
       "1    True\n",
       "2    True\n",
       "3    True\n",
       "dtype: bool"
      ]
     },
     "execution_count": 51,
     "metadata": {},
     "output_type": "execute_result"
    }
   ],
   "source": [
    "ser.str.endswith('i')"
   ]
  },
  {
   "cell_type": "code",
   "execution_count": 24,
   "id": "00666214-ffd4-4650-b01a-9293542d63c0",
   "metadata": {
    "tags": []
   },
   "outputs": [
    {
     "data": {
      "text/plain": [
       "0     True\n",
       "1    False\n",
       "2    False\n",
       "3    False\n",
       "dtype: bool"
      ]
     },
     "execution_count": 24,
     "metadata": {},
     "output_type": "execute_result"
    }
   ],
   "source": [
    "ser.str.startswith('M')"
   ]
  },
  {
   "cell_type": "code",
   "execution_count": null,
   "id": "cf9a8861-86c1-4f17-851e-921e9b7ac470",
   "metadata": {
    "tags": []
   },
   "outputs": [],
   "source": []
  },
  {
   "cell_type": "code",
   "execution_count": 27,
   "id": "5eb76853-b726-4904-9ff7-6384f7c08d5e",
   "metadata": {
    "tags": []
   },
   "outputs": [
    {
     "name": "stdout",
     "output_type": "stream",
     "text": [
      "0    Manohar Kumar\n",
      "1     Anil Solanki\n",
      "2    Bablu Solanki\n",
      "3    Sawai Solanki\n",
      "dtype: object\n"
     ]
    }
   ],
   "source": [
    "print(ser)"
   ]
  },
  {
   "cell_type": "code",
   "execution_count": 29,
   "id": "49f9c60f-dc05-4934-9b6e-105dd5a2b9f1",
   "metadata": {
    "tags": []
   },
   "outputs": [
    {
     "data": {
      "text/plain": [
       "0    0\n",
       "1   -1\n",
       "2   -1\n",
       "3   -1\n",
       "dtype: int64"
      ]
     },
     "execution_count": 29,
     "metadata": {},
     "output_type": "execute_result"
    }
   ],
   "source": [
    "ser.str.find('Manohar')"
   ]
  },
  {
   "cell_type": "code",
   "execution_count": 31,
   "id": "4eecd5a4-66fc-48ff-8230-6ba142c66569",
   "metadata": {
    "tags": []
   },
   "outputs": [
    {
     "data": {
      "text/plain": [
       "['Manohar Kumar', 'Anil Solanki', 'Bablu Solanki', 'Sawai Solanki']"
      ]
     },
     "execution_count": 31,
     "metadata": {},
     "output_type": "execute_result"
    }
   ],
   "source": [
    "ser.to_list()"
   ]
  }
 ],
 "metadata": {
  "kernelspec": {
   "display_name": "Python 3 (ipykernel)",
   "language": "python",
   "name": "python3"
  },
  "language_info": {
   "codemirror_mode": {
    "name": "ipython",
    "version": 3
   },
   "file_extension": ".py",
   "mimetype": "text/x-python",
   "name": "python",
   "nbconvert_exporter": "python",
   "pygments_lexer": "ipython3",
   "version": "3.11.7"
  }
 },
 "nbformat": 4,
 "nbformat_minor": 5
}
