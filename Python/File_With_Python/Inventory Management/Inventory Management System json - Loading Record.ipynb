{
 "cells": [
  {
   "cell_type": "code",
   "execution_count": 3,
   "id": "97603d7c-8679-4135-8429-405a7ae3eb4e",
   "metadata": {
    "tags": []
   },
   "outputs": [
    {
     "name": "stdout",
     "output_type": "stream",
     "text": [
      "--------------------MENU---------------------\n",
      "1001 5 Star 10 200\n",
      "1002 Bar-One 20 100\n",
      "1003 Candy 2 1000\n",
      "1004 Chocolate Cake 550 4\n",
      "1005 Blueberry Cake 650 5\n",
      "---------------------------------------------\n",
      "\n"
     ]
    },
    {
     "name": "stdin",
     "output_type": "stream",
     "text": [
      "Enter product ID :  1004\n",
      "Enter Quantiry   :  4\n"
     ]
    },
    {
     "name": "stdout",
     "output_type": "stream",
     "text": [
      "---------------------------------------------\n",
      "\n",
      "Name      :  Chocolate Cake\n",
      "Price (Rs):  550\n",
      "Quantity  :  4\n",
      "---------------------------------------------\n",
      "Billing   :  2200 Rs\n",
      "---------------------------------------------\n",
      "\n",
      "---------------------------------------------\n",
      "  Thanks for your order, Inventory Updated!  \n",
      "---------------------------------------------\n"
     ]
    }
   ],
   "source": [
    "import json\n",
    "\n",
    "fd = open('Record.json','r')\n",
    "js = fd.read()\n",
    "fd.close()\n",
    "\n",
    "record = json.loads(js)\n",
    "\n",
    "print(\"--------------------MENU---------------------\")\n",
    "for key in record.keys():\n",
    "    print(key, record[key]['Name'], record[key]['Price'], record[key]['Qn'])\n",
    "print(\"---------------------------------------------\")\n",
    "print('')\n",
    "\n",
    "ui_pr = str(input(\"Enter product ID : \"))\n",
    "ui_qn = int(input(\"Enter Quantiry   : \"))\n",
    "\n",
    "print(\"---------------------------------------------\")\n",
    "print('')\n",
    "\n",
    "print(\"Name      : \", record[ui_pr][\"Name\"])\n",
    "print(\"Price (Rs): \", record[ui_pr][\"Price\"])\n",
    "print(\"Quantity  : \", ui_qn)\n",
    "print(\"---------------------------------------------\")\n",
    "print(\"Billing   : \", ui_qn * record[ui_pr][\"Price\"], \"Rs\")\n",
    "print(\"---------------------------------------------\")\n",
    "\n",
    "record[ui_pr]['Qn'] = record[ui_pr]['Qn'] - ui_qn\n",
    "\n",
    "js = json.dumps(record)\n",
    "\n",
    "fd = open('Record.json','w')\n",
    "fd.write(js)\n",
    "fd.close()\n",
    "\n",
    "print('')\n",
    "print(\"---------------------------------------------\")\n",
    "print(\"  Thanks for your order, Inventory Updated!  \")\n",
    "print(\"---------------------------------------------\")"
   ]
  },
  {
   "cell_type": "code",
   "execution_count": 5,
   "id": "df773a60-a5c9-4539-b349-cf1a35be4c23",
   "metadata": {
    "tags": []
   },
   "outputs": [
    {
     "data": {
      "text/plain": [
       "{'1001': {'Name': '5 Star', 'Price': 10, 'Qn': 200},\n",
       " '1002': {'Name': 'Bar-One', 'Price': 20, 'Qn': 100},\n",
       " '1003': {'Name': 'Candy', 'Price': 2, 'Qn': 1000},\n",
       " '1004': {'Name': 'Chocolate Cake', 'Price': 550, 'Qn': 0},\n",
       " '1005': {'Name': 'Blueberry Cake', 'Price': 650, 'Qn': 5}}"
      ]
     },
     "execution_count": 5,
     "metadata": {},
     "output_type": "execute_result"
    }
   ],
   "source": [
    "record"
   ]
  },
  {
   "cell_type": "code",
   "execution_count": 7,
   "id": "183ecfcc-1ff5-4313-b77d-357aa3bcd7c9",
   "metadata": {
    "tags": []
   },
   "outputs": [],
   "source": [
    "fd = open('Record.json')\n",
    "js = fd.read()\n",
    "fd.close()"
   ]
  },
  {
   "cell_type": "code",
   "execution_count": 9,
   "id": "6df5eec7-5b95-444e-96d2-ee173cd1e734",
   "metadata": {
    "tags": []
   },
   "outputs": [
    {
     "data": {
      "text/plain": [
       "{'1001': {'Name': '5 Star', 'Price': 10, 'Qn': 200},\n",
       " '1002': {'Name': 'Bar-One', 'Price': 20, 'Qn': 100},\n",
       " '1003': {'Name': 'Candy', 'Price': 2, 'Qn': 1000},\n",
       " '1004': {'Name': 'Chocolate Cake', 'Price': 550, 'Qn': 0},\n",
       " '1005': {'Name': 'Blueberry Cake', 'Price': 650, 'Qn': 5}}"
      ]
     },
     "execution_count": 9,
     "metadata": {},
     "output_type": "execute_result"
    }
   ],
   "source": [
    "json.loads(js)"
   ]
  },
  {
   "cell_type": "code",
   "execution_count": 11,
   "id": "2cdeba15-3a6a-453f-a0f0-eb5d07ee2cc1",
   "metadata": {
    "tags": []
   },
   "outputs": [
    {
     "data": {
      "text/plain": [
       "{'1001': {'Name': '5 Star', 'Price': 10, 'Qn': 200},\n",
       " '1002': {'Name': 'Bar-One', 'Price': 20, 'Qn': 100},\n",
       " '1003': {'Name': 'Candy', 'Price': 2, 'Qn': 1000},\n",
       " '1004': {'Name': 'Chocolate Cake', 'Price': 550, 'Qn': 0},\n",
       " '1005': {'Name': 'Blueberry Cake', 'Price': 650, 'Qn': 5}}"
      ]
     },
     "execution_count": 11,
     "metadata": {},
     "output_type": "execute_result"
    }
   ],
   "source": [
    "record"
   ]
  },
  {
   "cell_type": "code",
   "execution_count": null,
   "id": "39724943-6220-42c5-ae04-8117d4d06e46",
   "metadata": {},
   "outputs": [],
   "source": []
  }
 ],
 "metadata": {
  "kernelspec": {
   "display_name": "Python 3 (ipykernel)",
   "language": "python",
   "name": "python3"
  },
  "language_info": {
   "codemirror_mode": {
    "name": "ipython",
    "version": 3
   },
   "file_extension": ".py",
   "mimetype": "text/x-python",
   "name": "python",
   "nbconvert_exporter": "python",
   "pygments_lexer": "ipython3",
   "version": "3.11.7"
  }
 },
 "nbformat": 4,
 "nbformat_minor": 5
}
