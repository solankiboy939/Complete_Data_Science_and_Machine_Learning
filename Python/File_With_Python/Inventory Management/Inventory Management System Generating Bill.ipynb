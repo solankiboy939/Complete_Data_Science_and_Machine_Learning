{
 "cells": [
  {
   "cell_type": "code",
   "execution_count": 29,
   "id": "d8f45465-1deb-46e1-ba79-08dc9d5660f6",
   "metadata": {
    "tags": []
   },
   "outputs": [],
   "source": [
    "record = {1001: {'Name': \"5 Star\"         , \"Price\" : 10 , \"Qn\" : 200},\n",
    "          1002: {'Name': \"Bar-One\"        , \"Price\" : 20 , \"Qn\" : 100 },\n",
    "          1003: {'Name': \"Candy\"          , \"Price\" : 2  , \"Qn\" : 1000},\n",
    "          1004: {'Name': \"Chocolate Cake\" , \"Price\" : 550, \"Qn\" : 8 },\n",
    "          1005: {'Name': \"Blueberry Cake\" , \"Price\" : 650, \"Qn\" : 5 }}"
   ]
  },
  {
   "cell_type": "code",
   "execution_count": 31,
   "id": "8eff85d4-9e2e-4a19-b308-e5077f70d5fc",
   "metadata": {
    "tags": []
   },
   "outputs": [
    {
     "data": {
      "text/plain": [
       "{1001: {'Name': '5 Star', 'Price': 10, 'Qn': 200},\n",
       " 1002: {'Name': 'Bar-One', 'Price': 20, 'Qn': 100},\n",
       " 1003: {'Name': 'Candy', 'Price': 2, 'Qn': 1000},\n",
       " 1004: {'Name': 'Chocolate Cake', 'Price': 550, 'Qn': 8},\n",
       " 1005: {'Name': 'Blueberry Cake', 'Price': 650, 'Qn': 5}}"
      ]
     },
     "execution_count": 31,
     "metadata": {},
     "output_type": "execute_result"
    }
   ],
   "source": [
    "record"
   ]
  },
  {
   "cell_type": "code",
   "execution_count": 37,
   "id": "7db0984e-8859-43d9-9a5d-f419b2eee7bf",
   "metadata": {
    "tags": []
   },
   "outputs": [
    {
     "name": "stdout",
     "output_type": "stream",
     "text": [
      "-------------------------------MENU----------------------------\n",
      "\n",
      "1001 : 5 Star | 10 | 200\n",
      "1002 : Bar-One | 20 | 100\n",
      "1003 : Candy | 2 | 1000\n",
      "1004 : Chocolate Cake | 550 | 8\n",
      "1005 : Blueberry Cake | 650 | 5\n",
      "-----------------------------------------------------------\n",
      "\n"
     ]
    },
    {
     "name": "stdin",
     "output_type": "stream",
     "text": [
      "Enter product ID :  1004\n",
      "Enter Quantiry   :  4\n"
     ]
    },
    {
     "name": "stdout",
     "output_type": "stream",
     "text": [
      "Name      :  Chocolate Cake\n",
      "Price (Rs):  550 Rs\n",
      "Quantity  :  4\n",
      "---------------------------------------------\n",
      "Billing Amount  :  2200 Rs\n",
      "---------------------------------------------\n"
     ]
    }
   ],
   "source": [
    "print(\"-------------------------------MENU----------------------------\\n\")\n",
    "for key in record.keys():\n",
    "    print(key,\":\",record[key]['Name'],\"|\",record[key]['Price'],\"|\",record[key]['Qn'])\n",
    "print(\"-----------------------------------------------------------\\n\")\n",
    "ui_pr = int(input(\"Enter product ID : \"))\n",
    "ui_qn = int(input(\"Enter Quantiry   : \"))\n",
    "\n",
    "print(\"Name      : \", record[ui_pr][\"Name\"])\n",
    "print(\"Price (Rs): \", record[ui_pr][\"Price\"],\"Rs\")\n",
    "print(\"Quantity  : \", ui_qn)\n",
    "print(\"---------------------------------------------\")\n",
    "print(\"Billing Amount  : \", ui_qn * record[ui_pr][\"Price\"], \"Rs\")\n",
    "print(\"---------------------------------------------\")"
   ]
  },
  {
   "cell_type": "code",
   "execution_count": null,
   "id": "5d15c680-4cba-4011-aa64-68193085b732",
   "metadata": {},
   "outputs": [],
   "source": []
  }
 ],
 "metadata": {
  "kernelspec": {
   "display_name": "Python 3 (ipykernel)",
   "language": "python",
   "name": "python3"
  },
  "language_info": {
   "codemirror_mode": {
    "name": "ipython",
    "version": 3
   },
   "file_extension": ".py",
   "mimetype": "text/x-python",
   "name": "python",
   "nbconvert_exporter": "python",
   "pygments_lexer": "ipython3",
   "version": "3.11.7"
  }
 },
 "nbformat": 4,
 "nbformat_minor": 5
}
