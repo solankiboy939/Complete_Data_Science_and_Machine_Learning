{
 "cells": [
  {
   "cell_type": "code",
   "execution_count": 9,
   "id": "7192a3d3-e370-414a-9bbb-a79d1fb86c16",
   "metadata": {
    "tags": []
   },
   "outputs": [],
   "source": [
    "fd = open(\"Inventory.txt\", 'w')\n",
    "fd.close()"
   ]
  },
  {
   "cell_type": "markdown",
   "id": "37b7d988-b4d0-40d7-b64c-ebf6b5898cf7",
   "metadata": {},
   "source": [
    "# Product Detail\n",
    "1. Product ID\n",
    "2. Name of product\n",
    "3. Price of Prudect \n",
    "4. Quantity"
   ]
  },
  {
   "cell_type": "code",
   "execution_count": 12,
   "id": "5c92b675-0643-4753-a831-121c314eaca5",
   "metadata": {
    "tags": []
   },
   "outputs": [],
   "source": [
    "fd = open('Inventory.txt','r')\n",
    "txt = fd.read().split('\\n')\n",
    "fd.close()"
   ]
  },
  {
   "cell_type": "code",
   "execution_count": 14,
   "id": "abcef33b-52b9-4c84-862c-7f927b58dc23",
   "metadata": {
    "tags": []
   },
   "outputs": [
    {
     "name": "stdout",
     "output_type": "stream",
     "text": [
      "['1,5 Star,5,100', '2,Milky Bar,5,100', '3,Cake,300,5', '4, Candy, 50,35']\n"
     ]
    }
   ],
   "source": [
    "print(txt)"
   ]
  },
  {
   "cell_type": "code",
   "execution_count": 16,
   "id": "5116ee5a-2735-44d0-8883-1c5221e11bbb",
   "metadata": {
    "tags": []
   },
   "outputs": [
    {
     "data": {
      "text/plain": [
       "['1,5 Star,5,100', '2,Milky Bar,5,100', '3,Cake,300,5', '4, Candy, 50,35']"
      ]
     },
     "execution_count": 16,
     "metadata": {},
     "output_type": "execute_result"
    }
   ],
   "source": [
    "txt"
   ]
  },
  {
   "cell_type": "code",
   "execution_count": 18,
   "id": "61407de8-ea1f-457e-9721-8be9300a9b9c",
   "metadata": {
    "tags": []
   },
   "outputs": [
    {
     "name": "stdin",
     "output_type": "stream",
     "text": [
      "Enter product ID :  1\n",
      "Enter product Quantity :  2\n"
     ]
    },
    {
     "name": "stdout",
     "output_type": "stream",
     "text": [
      "['1', '5 Star', '5', '100']\n"
     ]
    }
   ],
   "source": [
    "ui_prod_id = input(\"Enter product ID : \")\n",
    "ui_prod_qn = input(\"Enter product Quantity : \")\n",
    "\n",
    "for product in txt:\n",
    "    if(product.split(',')[0] == ui_prod_id):\n",
    "        print(product.split(','))"
   ]
  },
  {
   "cell_type": "code",
   "execution_count": 20,
   "id": "b9230cfe-af96-438f-bdf9-6f5b63cd7731",
   "metadata": {
    "tags": []
   },
   "outputs": [
    {
     "name": "stdout",
     "output_type": "stream",
     "text": [
      "['1', '5 Star', '5', '100']\n"
     ]
    }
   ],
   "source": [
    "fd=open(\"inventory.txt\",\"r\");\n",
    "products=fd.read().split(\"\\n\")\n",
    "for product in products:\n",
    "    product=product.split(\",\")\n",
    "    if (product[0]==\"1\"):\n",
    "        print (product)"
   ]
  },
  {
   "cell_type": "code",
   "execution_count": 22,
   "id": "b1fda0b2-05db-45d5-9941-0e17d50782ce",
   "metadata": {
    "tags": []
   },
   "outputs": [
    {
     "name": "stdin",
     "output_type": "stream",
     "text": [
      "Enter product ID:  1\n",
      "Enter product Quantity:  2\n"
     ]
    },
    {
     "name": "stdout",
     "output_type": "stream",
     "text": [
      "-----------------------------\n",
      "Product Name     :  5 Star\n",
      "Price            :  5\n",
      "Quantity         :  2\n",
      "-----------------------------\n",
      "Billing Amount   :  10\n",
      "-----------------------------\n"
     ]
    }
   ],
   "source": [
    "ui_prod_id = input(\"Enter product ID: \")\n",
    "ui_prod_qn = input(\"Enter product Quantity: \")\n",
    "\n",
    "for product in products:\n",
    "    \n",
    "    prod_details = product.split(',')\n",
    "    \n",
    "    if(prod_details[0] == ui_prod_id):\n",
    "        print(\"-----------------------------\")\n",
    "        print(\"Product Name     : \", prod_details[1])\n",
    "        print(\"Price            : \", prod_details[2]) \n",
    "        print(\"Quantity         : \", ui_prod_qn) \n",
    "        print(\"-----------------------------\")\n",
    "        print(\"Billing Amount   : \", int(ui_prod_qn) * int(prod_details[2]))\n",
    "        print(\"-----------------------------\")"
   ]
  },
  {
   "cell_type": "code",
   "execution_count": null,
   "id": "64781c89-4b1b-4bdf-b1df-a91298d95945",
   "metadata": {},
   "outputs": [],
   "source": []
  }
 ],
 "metadata": {
  "kernelspec": {
   "display_name": "Python 3 (ipykernel)",
   "language": "python",
   "name": "python3"
  },
  "language_info": {
   "codemirror_mode": {
    "name": "ipython",
    "version": 3
   },
   "file_extension": ".py",
   "mimetype": "text/x-python",
   "name": "python",
   "nbconvert_exporter": "python",
   "pygments_lexer": "ipython3",
   "version": "3.11.7"
  }
 },
 "nbformat": 4,
 "nbformat_minor": 5
}
