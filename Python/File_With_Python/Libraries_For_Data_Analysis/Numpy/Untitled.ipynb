{
 "cells": [
  {
   "cell_type": "code",
   "execution_count": 27,
   "id": "a33e8174-af6a-4027-ac9f-8307175b068c",
   "metadata": {
    "tags": []
   },
   "outputs": [],
   "source": [
    "import numpy as np"
   ]
  },
  {
   "cell_type": "markdown",
   "id": "e8f9089e-2b41-41bb-ad6b-1ff021548912",
   "metadata": {},
   "source": [
    "# Converting a list to Array"
   ]
  },
  {
   "cell_type": "code",
   "execution_count": 30,
   "id": "f970ef6c-5dd2-48dd-bd10-992384cbe3a2",
   "metadata": {
    "tags": []
   },
   "outputs": [
    {
     "name": "stdout",
     "output_type": "stream",
     "text": [
      "<class 'list'>\n",
      "<class 'numpy.ndarray'>\n",
      "[[1 2 3 4]]\n"
     ]
    }
   ],
   "source": [
    "lst = [1,2,3,4]\n",
    "print(type(lst))\n",
    "arr = np.array(lst)\n",
    "print(type(arr))\n",
    "arr = np.array(lst,ndmin = 2)\n",
    "print(arr)"
   ]
  },
  {
   "cell_type": "markdown",
   "id": "e392a77b-cb0a-4584-bee4-60f22e8f33a6",
   "metadata": {},
   "source": [
    "# 2. Arrange function\n",
    "    The arange([start,] stop[, step,][, dtype]) : Returns an array with evenly spaced elements as per the interval. The interval   mentioned is half-opened i.e. [Start, Stop)"
   ]
  },
  {
   "cell_type": "markdown",
   "id": "b246fbb6-a8d8-44e8-9b8a-2deab2016ca7",
   "metadata": {
    "tags": []
   },
   "source": [
    "np.arange(1,10,2)"
   ]
  },
  {
   "cell_type": "code",
   "execution_count": 36,
   "id": "64515004-bae1-4662-855c-aca6414ba856",
   "metadata": {
    "tags": []
   },
   "outputs": [
    {
     "name": "stdout",
     "output_type": "stream",
     "text": [
      "1\n",
      "3\n",
      "5\n",
      "7\n",
      "9\n"
     ]
    }
   ],
   "source": [
    "for i in range(1,10,2):\n",
    "    print(i)"
   ]
  },
  {
   "cell_type": "markdown",
   "id": "e54e4234-3ce9-4ae1-aea9-8cf8f378a617",
   "metadata": {},
   "source": [
    "# 3. Multidimensional Array"
   ]
  },
  {
   "cell_type": "code",
   "execution_count": 46,
   "id": "20afe75a-916b-4484-9898-dd5285a410b9",
   "metadata": {
    "tags": []
   },
   "outputs": [
    {
     "name": "stdout",
     "output_type": "stream",
     "text": [
      "<class 'numpy.ndarray'>\n"
     ]
    },
    {
     "data": {
      "text/plain": [
       "array([[1, 2, 3],\n",
       "       [4, 5, 6],\n",
       "       [7, 8, 9]])"
      ]
     },
     "execution_count": 46,
     "metadata": {},
     "output_type": "execute_result"
    }
   ],
   "source": [
    "arr = np.array([[1,2,3],[4,5,6],[7,8,9]])\n",
    "\n",
    "print(type(arr))\n",
    "arr"
   ]
  },
  {
   "cell_type": "markdown",
   "id": "6be46604-aff7-41c4-a2b5-6da5821664b6",
   "metadata": {},
   "source": [
    "# 4. Size Function\n",
    "In Python, numpy.size() function count the number of elements along a given axis (0 - Rows | 1 - Columns)"
   ]
  },
  {
   "cell_type": "code",
   "execution_count": 50,
   "id": "c558b6d6-ef7a-495f-b428-dd129ecc5a4a",
   "metadata": {
    "tags": []
   },
   "outputs": [
    {
     "name": "stdout",
     "output_type": "stream",
     "text": [
      "Total :  12\n",
      "Rows  :  4\n",
      "Cols  :  3\n"
     ]
    },
    {
     "data": {
      "text/plain": [
       "array([[1, 2, 3],\n",
       "       [4, 5, 6],\n",
       "       [7, 8, 9],\n",
       "       [1, 2, 3]])"
      ]
     },
     "execution_count": 50,
     "metadata": {},
     "output_type": "execute_result"
    }
   ],
   "source": [
    "arr = np.array([[1,2,3],[4,5,6],[7,8,9],[1,2,3]])\n",
    "\n",
    "print('Total : ', arr.size)\n",
    "print('Rows  : ', np.size(arr,0))\n",
    "print('Cols  : ', np.size(arr,1))\n",
    "\n",
    "arr"
   ]
  },
  {
   "cell_type": "code",
   "execution_count": null,
   "id": "7701b313-5df5-474a-9c44-50ea0c09ad2e",
   "metadata": {},
   "outputs": [],
   "source": []
  }
 ],
 "metadata": {
  "kernelspec": {
   "display_name": "Python 3 (ipykernel)",
   "language": "python",
   "name": "python3"
  },
  "language_info": {
   "codemirror_mode": {
    "name": "ipython",
    "version": 3
   },
   "file_extension": ".py",
   "mimetype": "text/x-python",
   "name": "python",
   "nbconvert_exporter": "python",
   "pygments_lexer": "ipython3",
   "version": "3.11.7"
  }
 },
 "nbformat": 4,
 "nbformat_minor": 5
}
